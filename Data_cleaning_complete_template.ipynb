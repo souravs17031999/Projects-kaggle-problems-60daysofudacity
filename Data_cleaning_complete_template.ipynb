{
  "nbformat": 4,
  "nbformat_minor": 0,
  "metadata": {
    "colab": {
      "name": "Data_cleaning_complete_template.ipynb",
      "provenance": [],
      "collapsed_sections": [],
      "include_colab_link": true
    },
    "kernelspec": {
      "name": "python3",
      "display_name": "Python 3"
    }
  },
  "cells": [
    {
      "cell_type": "markdown",
      "metadata": {
        "id": "view-in-github",
        "colab_type": "text"
      },
      "source": [
        "<a href=\"https://colab.research.google.com/github/souravs17031999/Projects-kaggle-problems-60daysofudacity/blob/master/Data_cleaning_complete_template.ipynb\" target=\"_parent\"><img src=\"https://colab.research.google.com/assets/colab-badge.svg\" alt=\"Open In Colab\"/></a>"
      ]
    },
    {
      "cell_type": "markdown",
      "metadata": {
        "id": "xA8-ygukKzWf",
        "colab_type": "text"
      },
      "source": [
        "# Predicting ratings"
      ]
    },
    {
      "cell_type": "markdown",
      "metadata": {
        "id": "n1RSkrvyKzWh",
        "colab_type": "text"
      },
      "source": [
        "### Walking through the directory to find file paths"
      ]
    },
    {
      "cell_type": "code",
      "metadata": {
        "trusted": true,
        "id": "cCy4fUqnKzWi",
        "colab_type": "code",
        "outputId": "fae73d29-f579-4cec-b7b7-8fb736abf4c0",
        "colab": {}
      },
      "source": [
        "import os\n",
        "for dirname, _, filenames in os.walk('/kaggle/input'):\n",
        "    for filename in filenames:\n",
        "        print(os.path.join(dirname, filename))"
      ],
      "execution_count": 0,
      "outputs": [
        {
          "output_type": "stream",
          "text": [
            "/kaggle/input/orion19-datathon/Orion'19_Datathon_data_freshmen/user_reviews_train.csv\n",
            "/kaggle/input/orion19-datathon/Orion'19_Datathon_data_freshmen/sample_submission.csv\n",
            "/kaggle/input/orion19-datathon/Orion'19_Datathon_data_freshmen/test.csv\n",
            "/kaggle/input/orion19-datathon/Orion'19_Datathon_data_freshmen/google_play_store_train.csv\n"
          ],
          "name": "stdout"
        }
      ]
    },
    {
      "cell_type": "markdown",
      "metadata": {
        "id": "NQ5hS7ZbKzWm",
        "colab_type": "text"
      },
      "source": [
        "### Importing packages"
      ]
    },
    {
      "cell_type": "code",
      "metadata": {
        "id": "G1_UIrrgEBmw",
        "colab_type": "code",
        "trusted": true,
        "colab": {}
      },
      "source": [
        "import numpy as np\n",
        "import pandas as pd\n",
        "import matplotlib.pyplot as plt\n",
        "from sklearn.preprocessing import OneHotEncoder, Imputer\n",
        "from sklearn.model_selection import train_test_split\n",
        "from sklearn.linear_model import LinearRegression\n",
        "from sklearn.metrics import accuracy_score, confusion_matrix"
      ],
      "execution_count": 0,
      "outputs": []
    },
    {
      "cell_type": "markdown",
      "metadata": {
        "id": "t3TSE6NYKzWp",
        "colab_type": "text"
      },
      "source": [
        "### Loading files"
      ]
    },
    {
      "cell_type": "code",
      "metadata": {
        "id": "l9upiDZGGwcL",
        "colab_type": "code",
        "trusted": true,
        "colab": {}
      },
      "source": [
        "df_train = pd.read_csv(\"/kaggle/input/orion19-datathon/Orion'19_Datathon_data_freshmen/google_play_store_train.csv\")\n",
        "df_test = pd.read_csv(\"/kaggle/input/orion19-datathon/Orion'19_Datathon_data_freshmen/test.csv\")"
      ],
      "execution_count": 0,
      "outputs": []
    },
    {
      "cell_type": "markdown",
      "metadata": {
        "id": "kKWtqx03KzWs",
        "colab_type": "text"
      },
      "source": [
        "### Investigating data shapes and values (overview)"
      ]
    },
    {
      "cell_type": "code",
      "metadata": {
        "id": "towOhOKZdemP",
        "colab_type": "code",
        "outputId": "68ae380c-4435-46d6-8151-741cea1e4242",
        "trusted": true,
        "colab": {
          "base_uri": "https://localhost:8080/",
          "height": 34
        }
      },
      "source": [
        "df_train.shape"
      ],
      "execution_count": 0,
      "outputs": [
        {
          "output_type": "execute_result",
          "data": {
            "text/plain": [
              "(10474, 15)"
            ]
          },
          "metadata": {
            "tags": []
          },
          "execution_count": 4
        }
      ]
    },
    {
      "cell_type": "code",
      "metadata": {
        "id": "bQLLnDbae4hd",
        "colab_type": "code",
        "outputId": "5d43f2d8-6e5b-479b-c88d-33e5483ca44c",
        "trusted": true,
        "colab": {
          "base_uri": "https://localhost:8080/",
          "height": 34
        }
      },
      "source": [
        "df_test.shape"
      ],
      "execution_count": 0,
      "outputs": [
        {
          "output_type": "execute_result",
          "data": {
            "text/plain": [
              "(367, 14)"
            ]
          },
          "metadata": {
            "tags": []
          },
          "execution_count": 5
        }
      ]
    },
    {
      "cell_type": "code",
      "metadata": {
        "trusted": true,
        "id": "0Kh8WQSvKzW3",
        "colab_type": "code",
        "outputId": "3fec1cd1-ce8c-483b-a2af-cd224ac412db",
        "colab": {}
      },
      "source": [
        "df_train.head()"
      ],
      "execution_count": 0,
      "outputs": [
        {
          "output_type": "execute_result",
          "data": {
            "text/plain": [
              "   App_ID                                                App        Category  \\\n",
              "0      10     Photo Editor & Candy Camera & Grid & ScrapBook  ART_AND_DESIGN   \n",
              "1      15                                Coloring book moana  ART_AND_DESIGN   \n",
              "2      20  U Launcher Lite – FREE Live Cool Themes, Hide ...  ART_AND_DESIGN   \n",
              "3      25                              Sketch - Draw & Paint  ART_AND_DESIGN   \n",
              "4      30              Pixel Draw - Number Art Coloring Book  ART_AND_DESIGN   \n",
              "\n",
              "   Rating Reviews  Size     Installs  Type Price Content Rating        Genres  \\\n",
              "0     4.1     159   19M      10,000+  Free     0       Everyone  Art & Design   \n",
              "1     3.9     967   14M     500,000+  Free     0       Everyone  Art & Design   \n",
              "2     4.7   87510  8.7M   5,000,000+  Free     0       Everyone  Art & Design   \n",
              "3     4.5  215644   25M  50,000,000+  Free     0           Teen  Art & Design   \n",
              "4     4.3     967  2.8M     100,000+  Free     0       Everyone  Art & Design   \n",
              "\n",
              "      Last Updated         Current Ver   Android Ver   Unnamed: 14  \n",
              "0  January 7, 2018               1.0.0  4.0.3 and up           NaN  \n",
              "1     Pretend Play    January 15, 2018         2.0.0  4.0.3 and up  \n",
              "2   August 1, 2018               1.2.4  4.0.3 and up           NaN  \n",
              "3     June 8, 2018  Varies with device    4.2 and up           NaN  \n",
              "4       Creativity       June 20, 2018           1.1    4.4 and up  "
            ],
            "text/html": [
              "<div>\n",
              "<style scoped>\n",
              "    .dataframe tbody tr th:only-of-type {\n",
              "        vertical-align: middle;\n",
              "    }\n",
              "\n",
              "    .dataframe tbody tr th {\n",
              "        vertical-align: top;\n",
              "    }\n",
              "\n",
              "    .dataframe thead th {\n",
              "        text-align: right;\n",
              "    }\n",
              "</style>\n",
              "<table border=\"1\" class=\"dataframe\">\n",
              "  <thead>\n",
              "    <tr style=\"text-align: right;\">\n",
              "      <th></th>\n",
              "      <th>App_ID</th>\n",
              "      <th>App</th>\n",
              "      <th>Category</th>\n",
              "      <th>Rating</th>\n",
              "      <th>Reviews</th>\n",
              "      <th>Size</th>\n",
              "      <th>Installs</th>\n",
              "      <th>Type</th>\n",
              "      <th>Price</th>\n",
              "      <th>Content Rating</th>\n",
              "      <th>Genres</th>\n",
              "      <th>Last Updated</th>\n",
              "      <th>Current Ver</th>\n",
              "      <th>Android Ver</th>\n",
              "      <th>Unnamed: 14</th>\n",
              "    </tr>\n",
              "  </thead>\n",
              "  <tbody>\n",
              "    <tr>\n",
              "      <td>0</td>\n",
              "      <td>10</td>\n",
              "      <td>Photo Editor &amp; Candy Camera &amp; Grid &amp; ScrapBook</td>\n",
              "      <td>ART_AND_DESIGN</td>\n",
              "      <td>4.1</td>\n",
              "      <td>159</td>\n",
              "      <td>19M</td>\n",
              "      <td>10,000+</td>\n",
              "      <td>Free</td>\n",
              "      <td>0</td>\n",
              "      <td>Everyone</td>\n",
              "      <td>Art &amp; Design</td>\n",
              "      <td>January 7, 2018</td>\n",
              "      <td>1.0.0</td>\n",
              "      <td>4.0.3 and up</td>\n",
              "      <td>NaN</td>\n",
              "    </tr>\n",
              "    <tr>\n",
              "      <td>1</td>\n",
              "      <td>15</td>\n",
              "      <td>Coloring book moana</td>\n",
              "      <td>ART_AND_DESIGN</td>\n",
              "      <td>3.9</td>\n",
              "      <td>967</td>\n",
              "      <td>14M</td>\n",
              "      <td>500,000+</td>\n",
              "      <td>Free</td>\n",
              "      <td>0</td>\n",
              "      <td>Everyone</td>\n",
              "      <td>Art &amp; Design</td>\n",
              "      <td>Pretend Play</td>\n",
              "      <td>January 15, 2018</td>\n",
              "      <td>2.0.0</td>\n",
              "      <td>4.0.3 and up</td>\n",
              "    </tr>\n",
              "    <tr>\n",
              "      <td>2</td>\n",
              "      <td>20</td>\n",
              "      <td>U Launcher Lite – FREE Live Cool Themes, Hide ...</td>\n",
              "      <td>ART_AND_DESIGN</td>\n",
              "      <td>4.7</td>\n",
              "      <td>87510</td>\n",
              "      <td>8.7M</td>\n",
              "      <td>5,000,000+</td>\n",
              "      <td>Free</td>\n",
              "      <td>0</td>\n",
              "      <td>Everyone</td>\n",
              "      <td>Art &amp; Design</td>\n",
              "      <td>August 1, 2018</td>\n",
              "      <td>1.2.4</td>\n",
              "      <td>4.0.3 and up</td>\n",
              "      <td>NaN</td>\n",
              "    </tr>\n",
              "    <tr>\n",
              "      <td>3</td>\n",
              "      <td>25</td>\n",
              "      <td>Sketch - Draw &amp; Paint</td>\n",
              "      <td>ART_AND_DESIGN</td>\n",
              "      <td>4.5</td>\n",
              "      <td>215644</td>\n",
              "      <td>25M</td>\n",
              "      <td>50,000,000+</td>\n",
              "      <td>Free</td>\n",
              "      <td>0</td>\n",
              "      <td>Teen</td>\n",
              "      <td>Art &amp; Design</td>\n",
              "      <td>June 8, 2018</td>\n",
              "      <td>Varies with device</td>\n",
              "      <td>4.2 and up</td>\n",
              "      <td>NaN</td>\n",
              "    </tr>\n",
              "    <tr>\n",
              "      <td>4</td>\n",
              "      <td>30</td>\n",
              "      <td>Pixel Draw - Number Art Coloring Book</td>\n",
              "      <td>ART_AND_DESIGN</td>\n",
              "      <td>4.3</td>\n",
              "      <td>967</td>\n",
              "      <td>2.8M</td>\n",
              "      <td>100,000+</td>\n",
              "      <td>Free</td>\n",
              "      <td>0</td>\n",
              "      <td>Everyone</td>\n",
              "      <td>Art &amp; Design</td>\n",
              "      <td>Creativity</td>\n",
              "      <td>June 20, 2018</td>\n",
              "      <td>1.1</td>\n",
              "      <td>4.4 and up</td>\n",
              "    </tr>\n",
              "  </tbody>\n",
              "</table>\n",
              "</div>"
            ]
          },
          "metadata": {
            "tags": []
          },
          "execution_count": 6
        }
      ]
    },
    {
      "cell_type": "markdown",
      "metadata": {
        "id": "IAcENIeWKzW9",
        "colab_type": "text"
      },
      "source": [
        "### Data preprocessing\n",
        "\n",
        "Following steps will be followed :\n",
        "* firstly check for all NaN/ Null values and replacing it appropriately\n",
        "* Then i will go for converting categorical variables to numerical values by substituting dummy variables\n",
        "* Then i will drop irrelevant columns (These are existing in this dataset due to some irrelevant values in between the rows)\n",
        "* Then finally all datatypes will be changed to int/float (initially it is 'object' type which is not conveinient for MLmodels)"
      ]
    },
    {
      "cell_type": "code",
      "metadata": {
        "id": "Xy-TTlPv1BPU",
        "colab_type": "code",
        "outputId": "60a3bed6-9812-47c9-bf0c-3c8af8b5fdd7",
        "trusted": true,
        "colab": {
          "base_uri": "https://localhost:8080/",
          "height": 580
        }
      },
      "source": [
        "print(pd.isnull(df_train).sum())\n",
        "print()\n",
        "print(pd.isnull(df_test).sum())"
      ],
      "execution_count": 0,
      "outputs": [
        {
          "output_type": "stream",
          "text": [
            "App_ID               0\n",
            "App                  0\n",
            "Category             0\n",
            "Rating            1434\n",
            "Reviews              0\n",
            "Size                 0\n",
            "Installs             0\n",
            "Type                 1\n",
            "Price                0\n",
            "Content Rating       1\n",
            "Genres               0\n",
            "Last Updated         0\n",
            "Current Ver          7\n",
            "Android Ver          3\n",
            "Unnamed: 14       9995\n",
            "dtype: int64\n",
            "\n",
            "App_ID              0\n",
            "App                 0\n",
            "Category            0\n",
            "Reviews             0\n",
            "Size                0\n",
            "Installs            0\n",
            "Type                0\n",
            "Price               0\n",
            "Content Rating      0\n",
            "Genres              0\n",
            "Last Updated        0\n",
            "Current Ver         1\n",
            "Android Ver         0\n",
            "Unnamed: 13       347\n",
            "dtype: int64\n"
          ],
          "name": "stdout"
        }
      ]
    },
    {
      "cell_type": "code",
      "metadata": {
        "id": "kVKBS7gr2apD",
        "colab_type": "code",
        "outputId": "cd423e2e-46cc-4e03-98c8-1a670ff99f04",
        "trusted": true,
        "colab": {
          "base_uri": "https://localhost:8080/",
          "height": 72
        }
      },
      "source": [
        "imputer  = Imputer(\"NaN\", 'mean', 0)\n",
        "imputer  = imputer.fit(df_train.iloc[:, [3]])\n",
        "df_train.iloc[:, [3]] = imputer.transform(df_train.iloc[:, [3]])"
      ],
      "execution_count": 0,
      "outputs": [
        {
          "output_type": "stream",
          "text": [
            "/opt/conda/lib/python3.6/site-packages/sklearn/utils/deprecation.py:66: DeprecationWarning: Class Imputer is deprecated; Imputer was deprecated in version 0.20 and will be removed in 0.22. Import impute.SimpleImputer from sklearn instead.\n",
            "  warnings.warn(msg, category=DeprecationWarning)\n"
          ],
          "name": "stderr"
        }
      ]
    },
    {
      "cell_type": "code",
      "metadata": {
        "id": "Q00ZPT3c_z95",
        "colab_type": "code",
        "colab": {}
      },
      "source": [
        "df_cancer = df_cancer.replace('?', np.nan)  # useful for replacing some value by some another values"
      ],
      "execution_count": 0,
      "outputs": []
    },
    {
      "cell_type": "code",
      "metadata": {
        "id": "nRHCEbPGIqZH",
        "colab_type": "code",
        "outputId": "f063e8db-4882-48b3-97e8-1a729b168672",
        "trusted": true,
        "colab": {
          "base_uri": "https://localhost:8080/",
          "height": 580
        }
      },
      "source": [
        "print(pd.isnull(df_train).sum())\n",
        "print()\n",
        "print(pd.isnull(df_test).sum())"
      ],
      "execution_count": 0,
      "outputs": [
        {
          "output_type": "stream",
          "text": [
            "App_ID               0\n",
            "App                  0\n",
            "Category             0\n",
            "Rating               0\n",
            "Reviews              0\n",
            "Size                 0\n",
            "Installs             0\n",
            "Type                 1\n",
            "Price                0\n",
            "Content Rating       1\n",
            "Genres               0\n",
            "Last Updated         0\n",
            "Current Ver          7\n",
            "Android Ver          3\n",
            "Unnamed: 14       9995\n",
            "dtype: int64\n",
            "\n",
            "App_ID              0\n",
            "App                 0\n",
            "Category            0\n",
            "Reviews             0\n",
            "Size                0\n",
            "Installs            0\n",
            "Type                0\n",
            "Price               0\n",
            "Content Rating      0\n",
            "Genres              0\n",
            "Last Updated        0\n",
            "Current Ver         1\n",
            "Android Ver         0\n",
            "Unnamed: 13       347\n",
            "dtype: int64\n"
          ],
          "name": "stdout"
        }
      ]
    },
    {
      "cell_type": "code",
      "metadata": {
        "id": "qiypyVvMxBpA",
        "colab_type": "code",
        "outputId": "5e71e657-512c-4b0f-bfc9-db1f232d7926",
        "trusted": true,
        "colab": {
          "base_uri": "https://localhost:8080/",
          "height": 52
        }
      },
      "source": [
        "print(df_train.shape)\n",
        "print(df_test.shape)"
      ],
      "execution_count": 0,
      "outputs": [
        {
          "output_type": "stream",
          "text": [
            "(10474, 15)\n",
            "(367, 14)\n"
          ],
          "name": "stdout"
        }
      ]
    },
    {
      "cell_type": "code",
      "metadata": {
        "id": "HByI527oSuUS",
        "colab_type": "code",
        "outputId": "150b3f0a-8a6a-4bb6-d7f6-0bccd16f2335",
        "trusted": true,
        "colab": {
          "base_uri": "https://localhost:8080/",
          "height": 87
        }
      },
      "source": [
        "df_train['Type'].value_counts()"
      ],
      "execution_count": 0,
      "outputs": [
        {
          "output_type": "execute_result",
          "data": {
            "text/plain": [
              "Free    9705\n",
              "Paid     767\n",
              "0          1\n",
              "Name: Type, dtype: int64"
            ]
          },
          "metadata": {
            "tags": []
          },
          "execution_count": 11
        }
      ]
    },
    {
      "cell_type": "code",
      "metadata": {
        "id": "sr_Fym_HqUGj",
        "colab_type": "code",
        "trusted": true,
        "colab": {}
      },
      "source": [
        "df_train = df_train.fillna({'Type':'Free'})"
      ],
      "execution_count": 0,
      "outputs": []
    },
    {
      "cell_type": "code",
      "metadata": {
        "id": "GSGIYiRRxc7I",
        "colab_type": "code",
        "outputId": "93df8621-ffdf-4614-a28b-87df79dcb53d",
        "trusted": true,
        "colab": {
          "base_uri": "https://localhost:8080/",
          "height": 140
        }
      },
      "source": [
        "df_train['Content Rating'].value_counts()"
      ],
      "execution_count": 0,
      "outputs": [
        {
          "output_type": "execute_result",
          "data": {
            "text/plain": [
              "Everyone           8392\n",
              "Teen               1189\n",
              "Mature 17+          482\n",
              "Everyone 10+        405\n",
              "Adults only 18+       3\n",
              "Unrated               2\n",
              "Name: Content Rating, dtype: int64"
            ]
          },
          "metadata": {
            "tags": []
          },
          "execution_count": 13
        }
      ]
    },
    {
      "cell_type": "code",
      "metadata": {
        "id": "dHEVWYSbx13b",
        "colab_type": "code",
        "trusted": true,
        "colab": {}
      },
      "source": [
        "df_train = df_train.fillna({'Content Rating' : 'Everyone'})"
      ],
      "execution_count": 0,
      "outputs": []
    },
    {
      "cell_type": "code",
      "metadata": {
        "id": "Al37MKsZx_oA",
        "colab_type": "code",
        "outputId": "4cf95bba-ef88-4c86-d3c1-c0cb05a060c0",
        "trusted": true,
        "colab": {
          "base_uri": "https://localhost:8080/",
          "height": 580
        }
      },
      "source": [
        "print(pd.isnull(df_train).sum())\n",
        "print()\n",
        "print(pd.isnull(df_test).sum())"
      ],
      "execution_count": 0,
      "outputs": [
        {
          "output_type": "stream",
          "text": [
            "App_ID               0\n",
            "App                  0\n",
            "Category             0\n",
            "Rating               0\n",
            "Reviews              0\n",
            "Size                 0\n",
            "Installs             0\n",
            "Type                 0\n",
            "Price                0\n",
            "Content Rating       0\n",
            "Genres               0\n",
            "Last Updated         0\n",
            "Current Ver          7\n",
            "Android Ver          3\n",
            "Unnamed: 14       9995\n",
            "dtype: int64\n",
            "\n",
            "App_ID              0\n",
            "App                 0\n",
            "Category            0\n",
            "Reviews             0\n",
            "Size                0\n",
            "Installs            0\n",
            "Type                0\n",
            "Price               0\n",
            "Content Rating      0\n",
            "Genres              0\n",
            "Last Updated        0\n",
            "Current Ver         1\n",
            "Android Ver         0\n",
            "Unnamed: 13       347\n",
            "dtype: int64\n"
          ],
          "name": "stdout"
        }
      ]
    },
    {
      "cell_type": "code",
      "metadata": {
        "id": "J6ZCF3IlmMGH",
        "colab_type": "code",
        "trusted": true,
        "colab": {}
      },
      "source": [
        "ids = df_test['App_ID']"
      ],
      "execution_count": 0,
      "outputs": []
    },
    {
      "cell_type": "code",
      "metadata": {
        "id": "vy2aSLaoxQG2",
        "colab_type": "code",
        "outputId": "3cdaf270-7927-45c7-b3c2-f0c45af3d68d",
        "trusted": true,
        "colab": {
          "base_uri": "https://localhost:8080/",
          "height": 52
        }
      },
      "source": [
        "print(df_train.shape)\n",
        "print(df_test.shape)"
      ],
      "execution_count": 0,
      "outputs": [
        {
          "output_type": "stream",
          "text": [
            "(10474, 15)\n",
            "(367, 14)\n"
          ],
          "name": "stdout"
        }
      ]
    },
    {
      "cell_type": "code",
      "metadata": {
        "id": "BZxAYkmmLavX",
        "colab_type": "code",
        "outputId": "d52894f4-9e3e-40a7-d7e0-9037f73074f3",
        "trusted": true,
        "colab": {
          "base_uri": "https://localhost:8080/",
          "height": 298
        }
      },
      "source": [
        "df_train.dtypes"
      ],
      "execution_count": 0,
      "outputs": [
        {
          "output_type": "execute_result",
          "data": {
            "text/plain": [
              "App_ID              int64\n",
              "App                object\n",
              "Category           object\n",
              "Rating            float64\n",
              "Reviews            object\n",
              "Size               object\n",
              "Installs           object\n",
              "Type               object\n",
              "Price              object\n",
              "Content Rating     object\n",
              "Genres             object\n",
              "Last Updated       object\n",
              "Current Ver        object\n",
              "Android Ver        object\n",
              "Unnamed: 14        object\n",
              "dtype: object"
            ]
          },
          "metadata": {
            "tags": []
          },
          "execution_count": 18
        }
      ]
    },
    {
      "cell_type": "code",
      "metadata": {
        "id": "6KAnqt7ETwtw",
        "colab_type": "code",
        "outputId": "22642ad9-d888-4836-cb20-cc862544df50",
        "trusted": true,
        "colab": {
          "base_uri": "https://localhost:8080/",
          "height": 369
        }
      },
      "source": [
        "df_train.info()"
      ],
      "execution_count": 0,
      "outputs": [
        {
          "output_type": "stream",
          "text": [
            "<class 'pandas.core.frame.DataFrame'>\n",
            "RangeIndex: 10474 entries, 0 to 10473\n",
            "Data columns (total 15 columns):\n",
            "App_ID            10474 non-null int64\n",
            "App               10474 non-null object\n",
            "Category          10474 non-null object\n",
            "Rating            10474 non-null float64\n",
            "Reviews           10474 non-null object\n",
            "Size              10474 non-null object\n",
            "Installs          10474 non-null object\n",
            "Type              10474 non-null object\n",
            "Price             10474 non-null object\n",
            "Content Rating    10474 non-null object\n",
            "Genres            10474 non-null object\n",
            "Last Updated      10474 non-null object\n",
            "Current Ver       10467 non-null object\n",
            "Android Ver       10471 non-null object\n",
            "Unnamed: 14       479 non-null object\n",
            "dtypes: float64(1), int64(1), object(13)\n",
            "memory usage: 1.2+ MB\n"
          ],
          "name": "stdout"
        }
      ]
    },
    {
      "cell_type": "code",
      "metadata": {
        "id": "vcAG-WbpyEcF",
        "colab_type": "code",
        "trusted": true,
        "colab": {}
      },
      "source": [
        "dummy_fields = ['Category', 'Type', 'Content Rating', 'Genres']\n",
        "for each in dummy_fields:\n",
        "    dummies = pd.get_dummies(df_train[each], drop_first=False)\n",
        "    df_train = pd.concat([df_train, dummies], axis=1)"
      ],
      "execution_count": 0,
      "outputs": []
    },
    {
      "cell_type": "code",
      "metadata": {
        "id": "tPngNZA46Gdp",
        "colab_type": "code",
        "trusted": true,
        "colab": {}
      },
      "source": [
        "fields_to_drop = ['Category', 'Type', 'Content Rating', 'Genres', 'App_ID', 'App', 'Last Updated', 'Current Ver', 'Android Ver', 'Unnamed: 14']\n",
        "df_train = df_train.drop(fields_to_drop, axis=1)    "
      ],
      "execution_count": 0,
      "outputs": []
    },
    {
      "cell_type": "code",
      "metadata": {
        "id": "8taa-1864ppx",
        "colab_type": "code",
        "outputId": "5f2daba8-84af-408d-a3c5-f588f35dbddb",
        "trusted": true,
        "colab": {
          "base_uri": "https://localhost:8080/",
          "height": 34
        }
      },
      "source": [
        "df_train.shape"
      ],
      "execution_count": 0,
      "outputs": [
        {
          "output_type": "execute_result",
          "data": {
            "text/plain": [
              "(10474, 97)"
            ]
          },
          "metadata": {
            "tags": []
          },
          "execution_count": 22
        }
      ]
    },
    {
      "cell_type": "code",
      "metadata": {
        "id": "JYnjyU2w6U8R",
        "colab_type": "code",
        "trusted": true,
        "colab": {}
      },
      "source": [
        "dummy_fields_test = ['Category', 'Type', 'Content Rating', 'Genres']\n",
        "for each in dummy_fields_test:\n",
        "    dummies_test = pd.get_dummies(df_test[each], drop_first=False)\n",
        "    df_test = pd.concat([df_test, dummies_test], axis=1)"
      ],
      "execution_count": 0,
      "outputs": []
    },
    {
      "cell_type": "code",
      "metadata": {
        "id": "N5TQWGyN7DAn",
        "colab_type": "code",
        "trusted": true,
        "colab": {}
      },
      "source": [
        "fields_to_drop = ['Category', 'Type', 'Content Rating', 'Genres', 'App_ID', 'App', 'Last Updated', 'Current Ver', 'Android Ver', 'Unnamed: 13']\n",
        "df_test = df_test.drop(fields_to_drop, axis=1)    "
      ],
      "execution_count": 0,
      "outputs": []
    },
    {
      "cell_type": "code",
      "metadata": {
        "id": "C_eFIb6Z6-5H",
        "colab_type": "code",
        "outputId": "299f81f4-1507-45ec-af79-f35062e50b3a",
        "trusted": true,
        "colab": {
          "base_uri": "https://localhost:8080/",
          "height": 34
        }
      },
      "source": [
        "df_test.shape"
      ],
      "execution_count": 0,
      "outputs": [
        {
          "output_type": "execute_result",
          "data": {
            "text/plain": [
              "(367, 77)"
            ]
          },
          "metadata": {
            "tags": []
          },
          "execution_count": 25
        }
      ]
    },
    {
      "cell_type": "code",
      "metadata": {
        "id": "9DFaEdHq-Clu",
        "colab_type": "code",
        "trusted": true,
        "colab": {}
      },
      "source": [
        "df_train.Size = [x.strip('M') for x in df_train.Size]"
      ],
      "execution_count": 0,
      "outputs": []
    },
    {
      "cell_type": "code",
      "metadata": {
        "id": "1tj6RWW7O0UX",
        "colab_type": "code",
        "trusted": true,
        "colab": {}
      },
      "source": [
        "df_train.Size = [x.strip('k') for x in df_train.Size]"
      ],
      "execution_count": 0,
      "outputs": []
    },
    {
      "cell_type": "code",
      "metadata": {
        "id": "Ngv4_pLVCG8G",
        "colab_type": "code",
        "trusted": true,
        "colab": {}
      },
      "source": [
        "df_train.Installs = [x.strip('+') for x in df_train.Installs]"
      ],
      "execution_count": 0,
      "outputs": []
    },
    {
      "cell_type": "code",
      "metadata": {
        "id": "zqPzjI9wGfzx",
        "colab_type": "code",
        "trusted": true,
        "colab": {}
      },
      "source": [
        "df_train.Price = [x.strip('$') for x in df_train.Price]"
      ],
      "execution_count": 0,
      "outputs": []
    },
    {
      "cell_type": "code",
      "metadata": {
        "id": "l23tLcUsLSmz",
        "colab_type": "code",
        "trusted": true,
        "colab": {}
      },
      "source": [
        "df_train.Installs = [x.replace(',', \"\") for x in df_train.Installs]"
      ],
      "execution_count": 0,
      "outputs": []
    },
    {
      "cell_type": "code",
      "metadata": {
        "id": "nBH5C2ieQbv3",
        "colab_type": "code",
        "trusted": true,
        "colab": {}
      },
      "source": [
        "df_test.Size = [x.strip('M') for x in df_test.Size]\n",
        "df_test.Size = [x.strip('k') for x in df_test.Size]\n",
        "df_test.Installs = [x.strip('+') for x in df_test.Installs]\n",
        "df_test.Price = [x.strip('$') for x in df_test.Price]\n",
        "df_test.Installs = [x.replace(',', \"\") for x in df_test.Installs]"
      ],
      "execution_count": 0,
      "outputs": []
    },
    {
      "cell_type": "code",
      "metadata": {
        "id": "C6RDl8YlCXr7",
        "colab_type": "code",
        "trusted": true,
        "colab": {}
      },
      "source": [
        "l = []\n",
        "for i in df_train.columns:\n",
        "  if i not in df_test.columns:\n",
        "    l.append(i)"
      ],
      "execution_count": 0,
      "outputs": []
    },
    {
      "cell_type": "code",
      "metadata": {
        "id": "3ASbXIJ0EDeJ",
        "colab_type": "code",
        "outputId": "0b011885-7d12-4aee-89f5-aa184d7f920e",
        "trusted": true,
        "colab": {
          "base_uri": "https://localhost:8080/",
          "height": 351
        }
      },
      "source": [
        "l.remove('Rating')\n",
        "l   "
      ],
      "execution_count": 0,
      "outputs": [
        {
          "output_type": "execute_result",
          "data": {
            "text/plain": [
              "['1.9',\n",
              " 'COMICS',\n",
              " 'EDUCATION',\n",
              " 'ENTERTAINMENT',\n",
              " 'EVENTS',\n",
              " 'LIBRARIES_AND_DEMO',\n",
              " 'PARENTING',\n",
              " '0',\n",
              " 'Adults only 18+',\n",
              " 'Unrated',\n",
              " 'Casino',\n",
              " 'Comics',\n",
              " 'Events',\n",
              " 'February 11, 2018',\n",
              " 'Libraries & Demo',\n",
              " 'Music & Audio',\n",
              " 'Parenting',\n",
              " 'Trivia',\n",
              " 'Word']"
            ]
          },
          "metadata": {
            "tags": []
          },
          "execution_count": 33
        }
      ]
    },
    {
      "cell_type": "code",
      "metadata": {
        "id": "B5DX42tGFT5u",
        "colab_type": "code",
        "trusted": true,
        "colab": {}
      },
      "source": [
        "fields_to_drop_new = l\n",
        "df_train = df_train.drop(fields_to_drop_new, axis=1) "
      ],
      "execution_count": 0,
      "outputs": []
    },
    {
      "cell_type": "code",
      "metadata": {
        "id": "w6BxvTsSFf2S",
        "colab_type": "code",
        "outputId": "a47616bb-0bc4-4a46-fd16-de31ed7c8a76",
        "trusted": true,
        "colab": {
          "base_uri": "https://localhost:8080/",
          "height": 34
        }
      },
      "source": [
        "df_train.shape "
      ],
      "execution_count": 0,
      "outputs": [
        {
          "output_type": "execute_result",
          "data": {
            "text/plain": [
              "(10474, 78)"
            ]
          },
          "metadata": {
            "tags": []
          },
          "execution_count": 35
        }
      ]
    },
    {
      "cell_type": "code",
      "metadata": {
        "id": "_7HigPCxFrnn",
        "colab_type": "code",
        "outputId": "2dff4fa5-d402-4f85-8eb7-e96d131dafc1",
        "trusted": true,
        "colab": {
          "base_uri": "https://localhost:8080/",
          "height": 34
        }
      },
      "source": [
        "df_test.shape"
      ],
      "execution_count": 0,
      "outputs": [
        {
          "output_type": "execute_result",
          "data": {
            "text/plain": [
              "(367, 77)"
            ]
          },
          "metadata": {
            "tags": []
          },
          "execution_count": 36
        }
      ]
    },
    {
      "cell_type": "code",
      "metadata": {
        "id": "lp843w3uMTkt",
        "colab_type": "code",
        "trusted": true,
        "colab": {}
      },
      "source": [
        "df_train = df_train[df_train.Reviews != '3.0M']\n"
      ],
      "execution_count": 0,
      "outputs": []
    },
    {
      "cell_type": "code",
      "metadata": {
        "id": "zaN2JC_kOMtO",
        "colab_type": "code",
        "trusted": true,
        "colab": {}
      },
      "source": [
        "df_train = df_train[df_train.Size != 'Varies with device']"
      ],
      "execution_count": 0,
      "outputs": []
    },
    {
      "cell_type": "code",
      "metadata": {
        "id": "fUcL0Uq_JkpY",
        "colab_type": "code",
        "trusted": true,
        "colab": {}
      },
      "source": [
        "df_train = df_train.astype({\"Reviews\":'float64', \"Size\":'float64'}) "
      ],
      "execution_count": 0,
      "outputs": []
    },
    {
      "cell_type": "code",
      "metadata": {
        "id": "WlAZbx27vzcj",
        "colab_type": "code",
        "trusted": true,
        "colab": {}
      },
      "source": [
        "df_train = df_train.astype({\"Reviews\":'int64', \"Size\":'int64'}) "
      ],
      "execution_count": 0,
      "outputs": []
    },
    {
      "cell_type": "code",
      "metadata": {
        "id": "OvlPLRjyv2vs",
        "colab_type": "code",
        "trusted": true,
        "colab": {}
      },
      "source": [
        "df_train = df_train.astype({\"Installs\":'float64', \"Price\":'float64'}) "
      ],
      "execution_count": 0,
      "outputs": []
    },
    {
      "cell_type": "code",
      "metadata": {
        "id": "XxtTlLKqPUcC",
        "colab_type": "code",
        "trusted": true,
        "colab": {}
      },
      "source": [
        "df_train = df_train.astype({\"Installs\":'int64', \"Price\":'int64'}) "
      ],
      "execution_count": 0,
      "outputs": []
    },
    {
      "cell_type": "code",
      "metadata": {
        "id": "HE0oyvomzoCc",
        "colab_type": "code",
        "trusted": true,
        "colab": {}
      },
      "source": [
        "df_test[\"Size\"]= df_test[\"Size\"].replace('Varies with device', 0)"
      ],
      "execution_count": 0,
      "outputs": []
    },
    {
      "cell_type": "code",
      "metadata": {
        "id": "DbIqyM_UvWYW",
        "colab_type": "code",
        "trusted": true,
        "colab": {}
      },
      "source": [
        "df_test = df_test.astype({\"Reviews\":'float64'}) "
      ],
      "execution_count": 0,
      "outputs": []
    },
    {
      "cell_type": "code",
      "metadata": {
        "id": "WDRxZdE4RKz_",
        "colab_type": "code",
        "trusted": true,
        "colab": {}
      },
      "source": [
        "df_test = df_test.astype({\"Reviews\":'int64'}) "
      ],
      "execution_count": 0,
      "outputs": []
    },
    {
      "cell_type": "code",
      "metadata": {
        "id": "cHXEocw8vZ1g",
        "colab_type": "code",
        "trusted": true,
        "colab": {}
      },
      "source": [
        "df_test = df_test.astype({\"Installs\":'int64', \"Price\":'float64'}) "
      ],
      "execution_count": 0,
      "outputs": []
    },
    {
      "cell_type": "code",
      "metadata": {
        "id": "0Kng9gMpRYdH",
        "colab_type": "code",
        "trusted": true,
        "colab": {}
      },
      "source": [
        "df_test = df_test.astype({\"Installs\":'int64', \"Price\":'int64'}) "
      ],
      "execution_count": 0,
      "outputs": []
    },
    {
      "cell_type": "code",
      "metadata": {
        "id": "ZgYXew67za-7",
        "colab_type": "code",
        "trusted": true,
        "colab": {}
      },
      "source": [
        "df_test = df_test.astype({\"Size\":'float64'}) "
      ],
      "execution_count": 0,
      "outputs": []
    },
    {
      "cell_type": "code",
      "metadata": {
        "id": "9XUcn0OS0Ktz",
        "colab_type": "code",
        "trusted": true,
        "colab": {}
      },
      "source": [
        "df_test = df_test.astype({\"Size\":'int64'}) "
      ],
      "execution_count": 0,
      "outputs": []
    },
    {
      "cell_type": "code",
      "metadata": {
        "id": "mxXWSP-f0zYj",
        "colab_type": "code",
        "trusted": true,
        "colab": {}
      },
      "source": [
        "df_test[\"Size\"]= df_test[\"Size\"].replace(0, df_test['Size'].mean())\n"
      ],
      "execution_count": 0,
      "outputs": []
    },
    {
      "cell_type": "code",
      "metadata": {
        "id": "WRx6YmdTF2on",
        "colab_type": "code",
        "outputId": "f49a176d-26c3-4e38-bf40-9f94523fb97d",
        "trusted": true,
        "colab": {
          "base_uri": "https://localhost:8080/",
          "height": 266
        }
      },
      "source": [
        "df_train.head()"
      ],
      "execution_count": 0,
      "outputs": [
        {
          "output_type": "execute_result",
          "data": {
            "text/plain": [
              "   Rating  Reviews  Size  Installs  Price  ART_AND_DESIGN  AUTO_AND_VEHICLES  \\\n",
              "0     4.1      159    19     10000      0               1                  0   \n",
              "1     3.9      967    14    500000      0               1                  0   \n",
              "2     4.7    87510     8   5000000      0               1                  0   \n",
              "3     4.5   215644    25  50000000      0               1                  0   \n",
              "4     4.3      967     2    100000      0               1                  0   \n",
              "\n",
              "   BEAUTY  BOOKS_AND_REFERENCE  BUSINESS  ...  Role Playing  Shopping  \\\n",
              "0       0                    0         0  ...             0         0   \n",
              "1       0                    0         0  ...             0         0   \n",
              "2       0                    0         0  ...             0         0   \n",
              "3       0                    0         0  ...             0         0   \n",
              "4       0                    0         0  ...             0         0   \n",
              "\n",
              "   Simulation  Social  Sports  Strategy  Tools  Travel & Local  \\\n",
              "0           0       0       0         0      0               0   \n",
              "1           0       0       0         0      0               0   \n",
              "2           0       0       0         0      0               0   \n",
              "3           0       0       0         0      0               0   \n",
              "4           0       0       0         0      0               0   \n",
              "\n",
              "   Video Players & Editors  Weather  \n",
              "0                        0        0  \n",
              "1                        0        0  \n",
              "2                        0        0  \n",
              "3                        0        0  \n",
              "4                        0        0  \n",
              "\n",
              "[5 rows x 78 columns]"
            ],
            "text/html": [
              "<div>\n",
              "<style scoped>\n",
              "    .dataframe tbody tr th:only-of-type {\n",
              "        vertical-align: middle;\n",
              "    }\n",
              "\n",
              "    .dataframe tbody tr th {\n",
              "        vertical-align: top;\n",
              "    }\n",
              "\n",
              "    .dataframe thead th {\n",
              "        text-align: right;\n",
              "    }\n",
              "</style>\n",
              "<table border=\"1\" class=\"dataframe\">\n",
              "  <thead>\n",
              "    <tr style=\"text-align: right;\">\n",
              "      <th></th>\n",
              "      <th>Rating</th>\n",
              "      <th>Reviews</th>\n",
              "      <th>Size</th>\n",
              "      <th>Installs</th>\n",
              "      <th>Price</th>\n",
              "      <th>ART_AND_DESIGN</th>\n",
              "      <th>AUTO_AND_VEHICLES</th>\n",
              "      <th>BEAUTY</th>\n",
              "      <th>BOOKS_AND_REFERENCE</th>\n",
              "      <th>BUSINESS</th>\n",
              "      <th>...</th>\n",
              "      <th>Role Playing</th>\n",
              "      <th>Shopping</th>\n",
              "      <th>Simulation</th>\n",
              "      <th>Social</th>\n",
              "      <th>Sports</th>\n",
              "      <th>Strategy</th>\n",
              "      <th>Tools</th>\n",
              "      <th>Travel &amp; Local</th>\n",
              "      <th>Video Players &amp; Editors</th>\n",
              "      <th>Weather</th>\n",
              "    </tr>\n",
              "  </thead>\n",
              "  <tbody>\n",
              "    <tr>\n",
              "      <td>0</td>\n",
              "      <td>4.1</td>\n",
              "      <td>159</td>\n",
              "      <td>19</td>\n",
              "      <td>10000</td>\n",
              "      <td>0</td>\n",
              "      <td>1</td>\n",
              "      <td>0</td>\n",
              "      <td>0</td>\n",
              "      <td>0</td>\n",
              "      <td>0</td>\n",
              "      <td>...</td>\n",
              "      <td>0</td>\n",
              "      <td>0</td>\n",
              "      <td>0</td>\n",
              "      <td>0</td>\n",
              "      <td>0</td>\n",
              "      <td>0</td>\n",
              "      <td>0</td>\n",
              "      <td>0</td>\n",
              "      <td>0</td>\n",
              "      <td>0</td>\n",
              "    </tr>\n",
              "    <tr>\n",
              "      <td>1</td>\n",
              "      <td>3.9</td>\n",
              "      <td>967</td>\n",
              "      <td>14</td>\n",
              "      <td>500000</td>\n",
              "      <td>0</td>\n",
              "      <td>1</td>\n",
              "      <td>0</td>\n",
              "      <td>0</td>\n",
              "      <td>0</td>\n",
              "      <td>0</td>\n",
              "      <td>...</td>\n",
              "      <td>0</td>\n",
              "      <td>0</td>\n",
              "      <td>0</td>\n",
              "      <td>0</td>\n",
              "      <td>0</td>\n",
              "      <td>0</td>\n",
              "      <td>0</td>\n",
              "      <td>0</td>\n",
              "      <td>0</td>\n",
              "      <td>0</td>\n",
              "    </tr>\n",
              "    <tr>\n",
              "      <td>2</td>\n",
              "      <td>4.7</td>\n",
              "      <td>87510</td>\n",
              "      <td>8</td>\n",
              "      <td>5000000</td>\n",
              "      <td>0</td>\n",
              "      <td>1</td>\n",
              "      <td>0</td>\n",
              "      <td>0</td>\n",
              "      <td>0</td>\n",
              "      <td>0</td>\n",
              "      <td>...</td>\n",
              "      <td>0</td>\n",
              "      <td>0</td>\n",
              "      <td>0</td>\n",
              "      <td>0</td>\n",
              "      <td>0</td>\n",
              "      <td>0</td>\n",
              "      <td>0</td>\n",
              "      <td>0</td>\n",
              "      <td>0</td>\n",
              "      <td>0</td>\n",
              "    </tr>\n",
              "    <tr>\n",
              "      <td>3</td>\n",
              "      <td>4.5</td>\n",
              "      <td>215644</td>\n",
              "      <td>25</td>\n",
              "      <td>50000000</td>\n",
              "      <td>0</td>\n",
              "      <td>1</td>\n",
              "      <td>0</td>\n",
              "      <td>0</td>\n",
              "      <td>0</td>\n",
              "      <td>0</td>\n",
              "      <td>...</td>\n",
              "      <td>0</td>\n",
              "      <td>0</td>\n",
              "      <td>0</td>\n",
              "      <td>0</td>\n",
              "      <td>0</td>\n",
              "      <td>0</td>\n",
              "      <td>0</td>\n",
              "      <td>0</td>\n",
              "      <td>0</td>\n",
              "      <td>0</td>\n",
              "    </tr>\n",
              "    <tr>\n",
              "      <td>4</td>\n",
              "      <td>4.3</td>\n",
              "      <td>967</td>\n",
              "      <td>2</td>\n",
              "      <td>100000</td>\n",
              "      <td>0</td>\n",
              "      <td>1</td>\n",
              "      <td>0</td>\n",
              "      <td>0</td>\n",
              "      <td>0</td>\n",
              "      <td>0</td>\n",
              "      <td>...</td>\n",
              "      <td>0</td>\n",
              "      <td>0</td>\n",
              "      <td>0</td>\n",
              "      <td>0</td>\n",
              "      <td>0</td>\n",
              "      <td>0</td>\n",
              "      <td>0</td>\n",
              "      <td>0</td>\n",
              "      <td>0</td>\n",
              "      <td>0</td>\n",
              "    </tr>\n",
              "  </tbody>\n",
              "</table>\n",
              "<p>5 rows × 78 columns</p>\n",
              "</div>"
            ]
          },
          "metadata": {
            "tags": []
          },
          "execution_count": 51
        }
      ]
    },
    {
      "cell_type": "code",
      "metadata": {
        "id": "72fk3cMd2-Zy",
        "colab_type": "code",
        "outputId": "d0b9d7f1-5ae3-4de5-bb61-49cee830fb8c",
        "trusted": true,
        "colab": {
          "base_uri": "https://localhost:8080/",
          "height": 266
        }
      },
      "source": [
        "df_test.head()"
      ],
      "execution_count": 0,
      "outputs": [
        {
          "output_type": "execute_result",
          "data": {
            "text/plain": [
              "   Reviews  Size  Installs  Price  ART_AND_DESIGN  AUTO_AND_VEHICLES  BEAUTY  \\\n",
              "0    13791  33.0   1000000      0               1                  0       0   \n",
              "1      121   3.0     10000      0               1                  0       0   \n",
              "2    13880  28.0   1000000      0               1                  0       0   \n",
              "3     8788  12.0   1000000      0               1                  0       0   \n",
              "4    44829  20.0  10000000      0               1                  0       0   \n",
              "\n",
              "   BOOKS_AND_REFERENCE  BUSINESS  COMMUNICATION  ...  Role Playing  Shopping  \\\n",
              "0                    0         0              0  ...             0         0   \n",
              "1                    0         0              0  ...             0         0   \n",
              "2                    0         0              0  ...             0         0   \n",
              "3                    0         0              0  ...             0         0   \n",
              "4                    0         0              0  ...             0         0   \n",
              "\n",
              "   Simulation  Social  Sports  Strategy  Tools  Travel & Local  \\\n",
              "0           0       0       0         0      0               0   \n",
              "1           0       0       0         0      0               0   \n",
              "2           0       0       0         0      0               0   \n",
              "3           0       0       0         0      0               0   \n",
              "4           0       0       0         0      0               0   \n",
              "\n",
              "   Video Players & Editors  Weather  \n",
              "0                        0        0  \n",
              "1                        0        0  \n",
              "2                        0        0  \n",
              "3                        0        0  \n",
              "4                        0        0  \n",
              "\n",
              "[5 rows x 77 columns]"
            ],
            "text/html": [
              "<div>\n",
              "<style scoped>\n",
              "    .dataframe tbody tr th:only-of-type {\n",
              "        vertical-align: middle;\n",
              "    }\n",
              "\n",
              "    .dataframe tbody tr th {\n",
              "        vertical-align: top;\n",
              "    }\n",
              "\n",
              "    .dataframe thead th {\n",
              "        text-align: right;\n",
              "    }\n",
              "</style>\n",
              "<table border=\"1\" class=\"dataframe\">\n",
              "  <thead>\n",
              "    <tr style=\"text-align: right;\">\n",
              "      <th></th>\n",
              "      <th>Reviews</th>\n",
              "      <th>Size</th>\n",
              "      <th>Installs</th>\n",
              "      <th>Price</th>\n",
              "      <th>ART_AND_DESIGN</th>\n",
              "      <th>AUTO_AND_VEHICLES</th>\n",
              "      <th>BEAUTY</th>\n",
              "      <th>BOOKS_AND_REFERENCE</th>\n",
              "      <th>BUSINESS</th>\n",
              "      <th>COMMUNICATION</th>\n",
              "      <th>...</th>\n",
              "      <th>Role Playing</th>\n",
              "      <th>Shopping</th>\n",
              "      <th>Simulation</th>\n",
              "      <th>Social</th>\n",
              "      <th>Sports</th>\n",
              "      <th>Strategy</th>\n",
              "      <th>Tools</th>\n",
              "      <th>Travel &amp; Local</th>\n",
              "      <th>Video Players &amp; Editors</th>\n",
              "      <th>Weather</th>\n",
              "    </tr>\n",
              "  </thead>\n",
              "  <tbody>\n",
              "    <tr>\n",
              "      <td>0</td>\n",
              "      <td>13791</td>\n",
              "      <td>33.0</td>\n",
              "      <td>1000000</td>\n",
              "      <td>0</td>\n",
              "      <td>1</td>\n",
              "      <td>0</td>\n",
              "      <td>0</td>\n",
              "      <td>0</td>\n",
              "      <td>0</td>\n",
              "      <td>0</td>\n",
              "      <td>...</td>\n",
              "      <td>0</td>\n",
              "      <td>0</td>\n",
              "      <td>0</td>\n",
              "      <td>0</td>\n",
              "      <td>0</td>\n",
              "      <td>0</td>\n",
              "      <td>0</td>\n",
              "      <td>0</td>\n",
              "      <td>0</td>\n",
              "      <td>0</td>\n",
              "    </tr>\n",
              "    <tr>\n",
              "      <td>1</td>\n",
              "      <td>121</td>\n",
              "      <td>3.0</td>\n",
              "      <td>10000</td>\n",
              "      <td>0</td>\n",
              "      <td>1</td>\n",
              "      <td>0</td>\n",
              "      <td>0</td>\n",
              "      <td>0</td>\n",
              "      <td>0</td>\n",
              "      <td>0</td>\n",
              "      <td>...</td>\n",
              "      <td>0</td>\n",
              "      <td>0</td>\n",
              "      <td>0</td>\n",
              "      <td>0</td>\n",
              "      <td>0</td>\n",
              "      <td>0</td>\n",
              "      <td>0</td>\n",
              "      <td>0</td>\n",
              "      <td>0</td>\n",
              "      <td>0</td>\n",
              "    </tr>\n",
              "    <tr>\n",
              "      <td>2</td>\n",
              "      <td>13880</td>\n",
              "      <td>28.0</td>\n",
              "      <td>1000000</td>\n",
              "      <td>0</td>\n",
              "      <td>1</td>\n",
              "      <td>0</td>\n",
              "      <td>0</td>\n",
              "      <td>0</td>\n",
              "      <td>0</td>\n",
              "      <td>0</td>\n",
              "      <td>...</td>\n",
              "      <td>0</td>\n",
              "      <td>0</td>\n",
              "      <td>0</td>\n",
              "      <td>0</td>\n",
              "      <td>0</td>\n",
              "      <td>0</td>\n",
              "      <td>0</td>\n",
              "      <td>0</td>\n",
              "      <td>0</td>\n",
              "      <td>0</td>\n",
              "    </tr>\n",
              "    <tr>\n",
              "      <td>3</td>\n",
              "      <td>8788</td>\n",
              "      <td>12.0</td>\n",
              "      <td>1000000</td>\n",
              "      <td>0</td>\n",
              "      <td>1</td>\n",
              "      <td>0</td>\n",
              "      <td>0</td>\n",
              "      <td>0</td>\n",
              "      <td>0</td>\n",
              "      <td>0</td>\n",
              "      <td>...</td>\n",
              "      <td>0</td>\n",
              "      <td>0</td>\n",
              "      <td>0</td>\n",
              "      <td>0</td>\n",
              "      <td>0</td>\n",
              "      <td>0</td>\n",
              "      <td>0</td>\n",
              "      <td>0</td>\n",
              "      <td>0</td>\n",
              "      <td>0</td>\n",
              "    </tr>\n",
              "    <tr>\n",
              "      <td>4</td>\n",
              "      <td>44829</td>\n",
              "      <td>20.0</td>\n",
              "      <td>10000000</td>\n",
              "      <td>0</td>\n",
              "      <td>1</td>\n",
              "      <td>0</td>\n",
              "      <td>0</td>\n",
              "      <td>0</td>\n",
              "      <td>0</td>\n",
              "      <td>0</td>\n",
              "      <td>...</td>\n",
              "      <td>0</td>\n",
              "      <td>0</td>\n",
              "      <td>0</td>\n",
              "      <td>0</td>\n",
              "      <td>0</td>\n",
              "      <td>0</td>\n",
              "      <td>0</td>\n",
              "      <td>0</td>\n",
              "      <td>0</td>\n",
              "      <td>0</td>\n",
              "    </tr>\n",
              "  </tbody>\n",
              "</table>\n",
              "<p>5 rows × 77 columns</p>\n",
              "</div>"
            ]
          },
          "metadata": {
            "tags": []
          },
          "execution_count": 52
        }
      ]
    },
    {
      "cell_type": "markdown",
      "metadata": {
        "id": "rfB0-tlGKzZT",
        "colab_type": "text"
      },
      "source": [
        "### Fetching actual features and targets on which ML model is to be trained"
      ]
    },
    {
      "cell_type": "code",
      "metadata": {
        "colab_type": "code",
        "id": "0WRe8x8TSnO3",
        "trusted": true,
        "colab": {}
      },
      "source": [
        "X = df_train.iloc[:, 1:]"
      ],
      "execution_count": 0,
      "outputs": []
    },
    {
      "cell_type": "code",
      "metadata": {
        "id": "XndalZj08DPu",
        "colab_type": "code",
        "outputId": "b4e593ef-02fa-4d4f-d5f4-5722b6704238",
        "trusted": true,
        "colab": {
          "base_uri": "https://localhost:8080/",
          "height": 266
        }
      },
      "source": [
        "X.head()"
      ],
      "execution_count": 0,
      "outputs": [
        {
          "output_type": "execute_result",
          "data": {
            "text/plain": [
              "   Reviews  Size  Installs  Price  ART_AND_DESIGN  AUTO_AND_VEHICLES  BEAUTY  \\\n",
              "0      159    19     10000      0               1                  0       0   \n",
              "1      967    14    500000      0               1                  0       0   \n",
              "2    87510     8   5000000      0               1                  0       0   \n",
              "3   215644    25  50000000      0               1                  0       0   \n",
              "4      967     2    100000      0               1                  0       0   \n",
              "\n",
              "   BOOKS_AND_REFERENCE  BUSINESS  COMMUNICATION  ...  Role Playing  Shopping  \\\n",
              "0                    0         0              0  ...             0         0   \n",
              "1                    0         0              0  ...             0         0   \n",
              "2                    0         0              0  ...             0         0   \n",
              "3                    0         0              0  ...             0         0   \n",
              "4                    0         0              0  ...             0         0   \n",
              "\n",
              "   Simulation  Social  Sports  Strategy  Tools  Travel & Local  \\\n",
              "0           0       0       0         0      0               0   \n",
              "1           0       0       0         0      0               0   \n",
              "2           0       0       0         0      0               0   \n",
              "3           0       0       0         0      0               0   \n",
              "4           0       0       0         0      0               0   \n",
              "\n",
              "   Video Players & Editors  Weather  \n",
              "0                        0        0  \n",
              "1                        0        0  \n",
              "2                        0        0  \n",
              "3                        0        0  \n",
              "4                        0        0  \n",
              "\n",
              "[5 rows x 77 columns]"
            ],
            "text/html": [
              "<div>\n",
              "<style scoped>\n",
              "    .dataframe tbody tr th:only-of-type {\n",
              "        vertical-align: middle;\n",
              "    }\n",
              "\n",
              "    .dataframe tbody tr th {\n",
              "        vertical-align: top;\n",
              "    }\n",
              "\n",
              "    .dataframe thead th {\n",
              "        text-align: right;\n",
              "    }\n",
              "</style>\n",
              "<table border=\"1\" class=\"dataframe\">\n",
              "  <thead>\n",
              "    <tr style=\"text-align: right;\">\n",
              "      <th></th>\n",
              "      <th>Reviews</th>\n",
              "      <th>Size</th>\n",
              "      <th>Installs</th>\n",
              "      <th>Price</th>\n",
              "      <th>ART_AND_DESIGN</th>\n",
              "      <th>AUTO_AND_VEHICLES</th>\n",
              "      <th>BEAUTY</th>\n",
              "      <th>BOOKS_AND_REFERENCE</th>\n",
              "      <th>BUSINESS</th>\n",
              "      <th>COMMUNICATION</th>\n",
              "      <th>...</th>\n",
              "      <th>Role Playing</th>\n",
              "      <th>Shopping</th>\n",
              "      <th>Simulation</th>\n",
              "      <th>Social</th>\n",
              "      <th>Sports</th>\n",
              "      <th>Strategy</th>\n",
              "      <th>Tools</th>\n",
              "      <th>Travel &amp; Local</th>\n",
              "      <th>Video Players &amp; Editors</th>\n",
              "      <th>Weather</th>\n",
              "    </tr>\n",
              "  </thead>\n",
              "  <tbody>\n",
              "    <tr>\n",
              "      <td>0</td>\n",
              "      <td>159</td>\n",
              "      <td>19</td>\n",
              "      <td>10000</td>\n",
              "      <td>0</td>\n",
              "      <td>1</td>\n",
              "      <td>0</td>\n",
              "      <td>0</td>\n",
              "      <td>0</td>\n",
              "      <td>0</td>\n",
              "      <td>0</td>\n",
              "      <td>...</td>\n",
              "      <td>0</td>\n",
              "      <td>0</td>\n",
              "      <td>0</td>\n",
              "      <td>0</td>\n",
              "      <td>0</td>\n",
              "      <td>0</td>\n",
              "      <td>0</td>\n",
              "      <td>0</td>\n",
              "      <td>0</td>\n",
              "      <td>0</td>\n",
              "    </tr>\n",
              "    <tr>\n",
              "      <td>1</td>\n",
              "      <td>967</td>\n",
              "      <td>14</td>\n",
              "      <td>500000</td>\n",
              "      <td>0</td>\n",
              "      <td>1</td>\n",
              "      <td>0</td>\n",
              "      <td>0</td>\n",
              "      <td>0</td>\n",
              "      <td>0</td>\n",
              "      <td>0</td>\n",
              "      <td>...</td>\n",
              "      <td>0</td>\n",
              "      <td>0</td>\n",
              "      <td>0</td>\n",
              "      <td>0</td>\n",
              "      <td>0</td>\n",
              "      <td>0</td>\n",
              "      <td>0</td>\n",
              "      <td>0</td>\n",
              "      <td>0</td>\n",
              "      <td>0</td>\n",
              "    </tr>\n",
              "    <tr>\n",
              "      <td>2</td>\n",
              "      <td>87510</td>\n",
              "      <td>8</td>\n",
              "      <td>5000000</td>\n",
              "      <td>0</td>\n",
              "      <td>1</td>\n",
              "      <td>0</td>\n",
              "      <td>0</td>\n",
              "      <td>0</td>\n",
              "      <td>0</td>\n",
              "      <td>0</td>\n",
              "      <td>...</td>\n",
              "      <td>0</td>\n",
              "      <td>0</td>\n",
              "      <td>0</td>\n",
              "      <td>0</td>\n",
              "      <td>0</td>\n",
              "      <td>0</td>\n",
              "      <td>0</td>\n",
              "      <td>0</td>\n",
              "      <td>0</td>\n",
              "      <td>0</td>\n",
              "    </tr>\n",
              "    <tr>\n",
              "      <td>3</td>\n",
              "      <td>215644</td>\n",
              "      <td>25</td>\n",
              "      <td>50000000</td>\n",
              "      <td>0</td>\n",
              "      <td>1</td>\n",
              "      <td>0</td>\n",
              "      <td>0</td>\n",
              "      <td>0</td>\n",
              "      <td>0</td>\n",
              "      <td>0</td>\n",
              "      <td>...</td>\n",
              "      <td>0</td>\n",
              "      <td>0</td>\n",
              "      <td>0</td>\n",
              "      <td>0</td>\n",
              "      <td>0</td>\n",
              "      <td>0</td>\n",
              "      <td>0</td>\n",
              "      <td>0</td>\n",
              "      <td>0</td>\n",
              "      <td>0</td>\n",
              "    </tr>\n",
              "    <tr>\n",
              "      <td>4</td>\n",
              "      <td>967</td>\n",
              "      <td>2</td>\n",
              "      <td>100000</td>\n",
              "      <td>0</td>\n",
              "      <td>1</td>\n",
              "      <td>0</td>\n",
              "      <td>0</td>\n",
              "      <td>0</td>\n",
              "      <td>0</td>\n",
              "      <td>0</td>\n",
              "      <td>...</td>\n",
              "      <td>0</td>\n",
              "      <td>0</td>\n",
              "      <td>0</td>\n",
              "      <td>0</td>\n",
              "      <td>0</td>\n",
              "      <td>0</td>\n",
              "      <td>0</td>\n",
              "      <td>0</td>\n",
              "      <td>0</td>\n",
              "      <td>0</td>\n",
              "    </tr>\n",
              "  </tbody>\n",
              "</table>\n",
              "<p>5 rows × 77 columns</p>\n",
              "</div>"
            ]
          },
          "metadata": {
            "tags": []
          },
          "execution_count": 54
        }
      ]
    },
    {
      "cell_type": "code",
      "metadata": {
        "id": "pchvKil6o7Ux",
        "colab_type": "code",
        "trusted": true,
        "colab": {}
      },
      "source": [
        "y = df_train['Rating']"
      ],
      "execution_count": 0,
      "outputs": []
    },
    {
      "cell_type": "markdown",
      "metadata": {
        "id": "E-BX9ecOKzZX",
        "colab_type": "text"
      },
      "source": [
        "### Applying regression models on dataset"
      ]
    },
    {
      "cell_type": "code",
      "metadata": {
        "id": "jMaNLj2pirio",
        "colab_type": "code",
        "outputId": "117f4d79-5123-47b7-fe36-47454f67bc73",
        "trusted": true,
        "colab": {
          "base_uri": "https://localhost:8080/",
          "height": 34
        }
      },
      "source": [
        "reg = LinearRegression()\n",
        "reg.fit(X, y)"
      ],
      "execution_count": 0,
      "outputs": [
        {
          "output_type": "execute_result",
          "data": {
            "text/plain": [
              "LinearRegression(copy_X=True, fit_intercept=True, n_jobs=None, normalize=False)"
            ]
          },
          "metadata": {
            "tags": []
          },
          "execution_count": 56
        }
      ]
    },
    {
      "cell_type": "code",
      "metadata": {
        "id": "APk_ut2sCOih",
        "colab_type": "code",
        "outputId": "e76d52d6-1b93-4475-9db7-83036e700d72",
        "trusted": true,
        "colab": {
          "base_uri": "https://localhost:8080/",
          "height": 34
        }
      },
      "source": [
        "X.shape"
      ],
      "execution_count": 0,
      "outputs": [
        {
          "output_type": "execute_result",
          "data": {
            "text/plain": [
              "(8810, 77)"
            ]
          },
          "metadata": {
            "tags": []
          },
          "execution_count": 57
        }
      ]
    },
    {
      "cell_type": "code",
      "metadata": {
        "id": "syefmAwMCP7p",
        "colab_type": "code",
        "outputId": "1e8b80d1-3368-4bb2-bb33-1bc193e5a68f",
        "trusted": true,
        "colab": {
          "base_uri": "https://localhost:8080/",
          "height": 34
        }
      },
      "source": [
        "y.shape"
      ],
      "execution_count": 0,
      "outputs": [
        {
          "output_type": "execute_result",
          "data": {
            "text/plain": [
              "(8810,)"
            ]
          },
          "metadata": {
            "tags": []
          },
          "execution_count": 58
        }
      ]
    },
    {
      "cell_type": "code",
      "metadata": {
        "id": "BfjG2ACdEsr8",
        "colab_type": "code",
        "trusted": true,
        "colab": {}
      },
      "source": [
        "y_test = df_test.iloc[:, :]"
      ],
      "execution_count": 0,
      "outputs": []
    },
    {
      "cell_type": "code",
      "metadata": {
        "id": "zxZd6usrR2XG",
        "colab_type": "code",
        "outputId": "9f0348ad-b152-4753-c1ca-9001ca276c66",
        "trusted": true,
        "colab": {
          "base_uri": "https://localhost:8080/",
          "height": 34
        }
      },
      "source": [
        "y_test.shape"
      ],
      "execution_count": 0,
      "outputs": [
        {
          "output_type": "execute_result",
          "data": {
            "text/plain": [
              "(367, 77)"
            ]
          },
          "metadata": {
            "tags": []
          },
          "execution_count": 60
        }
      ]
    },
    {
      "cell_type": "code",
      "metadata": {
        "id": "gqKuF8E_vmGL",
        "colab_type": "code",
        "trusted": true,
        "colab": {}
      },
      "source": [
        "y_pred = reg.predict(y_test)"
      ],
      "execution_count": 0,
      "outputs": []
    },
    {
      "cell_type": "code",
      "metadata": {
        "id": "X2Sg_EapSR0e",
        "colab_type": "code",
        "outputId": "2fc404d0-f767-4a0a-cd65-e2546cbebb51",
        "trusted": true,
        "colab": {
          "base_uri": "https://localhost:8080/",
          "height": 34
        }
      },
      "source": [
        "ids.shape"
      ],
      "execution_count": 0,
      "outputs": [
        {
          "output_type": "execute_result",
          "data": {
            "text/plain": [
              "(367,)"
            ]
          },
          "metadata": {
            "tags": []
          },
          "execution_count": 62
        }
      ]
    },
    {
      "cell_type": "code",
      "metadata": {
        "id": "DQ0JIqY0VFRY",
        "colab_type": "code",
        "outputId": "0c72988e-10be-43fd-e82b-b185619a7c2e",
        "trusted": true,
        "colab": {
          "base_uri": "https://localhost:8080/",
          "height": 34
        }
      },
      "source": [
        "y_pred.shape"
      ],
      "execution_count": 0,
      "outputs": [
        {
          "output_type": "execute_result",
          "data": {
            "text/plain": [
              "(367,)"
            ]
          },
          "metadata": {
            "tags": []
          },
          "execution_count": 63
        }
      ]
    },
    {
      "cell_type": "markdown",
      "metadata": {
        "id": "Lx5OgoNbKzZp",
        "colab_type": "text"
      },
      "source": [
        "### Checking values of coefficients"
      ]
    },
    {
      "cell_type": "code",
      "metadata": {
        "trusted": true,
        "id": "9JOLw4c_KzZp",
        "colab_type": "code",
        "colab": {}
      },
      "source": [
        "coeff = pd.DataFrame(X.columns)\n",
        "coeff['Coefficient Estimate'] = pd.Series(reg.coef_)"
      ],
      "execution_count": 0,
      "outputs": []
    },
    {
      "cell_type": "code",
      "metadata": {
        "trusted": true,
        "id": "R6jqn6PoKzZq",
        "colab_type": "code",
        "outputId": "ce082762-8ec4-4ce7-afe2-2716984cd1f3",
        "colab": {}
      },
      "source": [
        "print(coeff)"
      ],
      "execution_count": 0,
      "outputs": [
        {
          "output_type": "stream",
          "text": [
            "                          0  Coefficient Estimate\n",
            "0                   Reviews          1.930019e-08\n",
            "1                      Size         -1.038932e-04\n",
            "2                  Installs          2.535740e-11\n",
            "3                     Price         -6.550652e-04\n",
            "4            ART_AND_DESIGN         -2.739959e-02\n",
            "..                      ...                   ...\n",
            "72                 Strategy         -6.386694e-03\n",
            "73                    Tools         -1.019039e-01\n",
            "74           Travel & Local         -9.958017e-02\n",
            "75  Video Players & Editors         -1.247003e-01\n",
            "76                  Weather         -1.174244e-02\n",
            "\n",
            "[77 rows x 2 columns]\n"
          ],
          "name": "stdout"
        }
      ]
    },
    {
      "cell_type": "code",
      "metadata": {
        "trusted": true,
        "id": "P6ocXDC-KzZs",
        "colab_type": "code",
        "outputId": "6fd3f957-02fc-4e30-fa3b-533bc1cd1400",
        "colab": {}
      },
      "source": [
        "predictors = X.columns\n",
        "coef = pd.Series(reg.coef_,predictors).sort_values()\n",
        "coef.plot(kind='bar', title='Modal Coefficients', figsize=(18,10))"
      ],
      "execution_count": 0,
      "outputs": [
        {
          "output_type": "execute_result",
          "data": {
            "text/plain": [
              "<matplotlib.axes._subplots.AxesSubplot at 0x7fcd7fe5b400>"
            ]
          },
          "metadata": {
            "tags": []
          },
          "execution_count": 66
        },
        {
          "output_type": "display_data",
          "data": {
            "text/plain": [
              "<Figure size 1296x720 with 1 Axes>"
            ],
            "image/png": "[encoded data removed]"
          },
          "metadata": {
            "tags": [],
            "needs_background": "light"
          }
        }
      ]
    },
    {
      "cell_type": "markdown",
      "metadata": {
        "id": "3A10qKK3KzZt",
        "colab_type": "text"
      },
      "source": [
        "### converting output to dataframe"
      ]
    },
    {
      "cell_type": "code",
      "metadata": {
        "id": "UTCG0tjwv7US",
        "colab_type": "code",
        "trusted": true,
        "colab": {}
      },
      "source": [
        "output = pd.DataFrame({ 'App_ID' : ids, 'Rating': y_pred})"
      ],
      "execution_count": 0,
      "outputs": []
    },
    {
      "cell_type": "code",
      "metadata": {
        "id": "YkdZuSBlvFkz",
        "colab_type": "code",
        "outputId": "a23677f7-2b8d-4ec4-dc02-954c74efbdb3",
        "trusted": true,
        "colab": {
          "base_uri": "https://localhost:8080/",
          "height": 195
        }
      },
      "source": [
        "output.head()"
      ],
      "execution_count": 0,
      "outputs": [
        {
          "output_type": "execute_result",
          "data": {
            "text/plain": [
              "   App_ID    Rating\n",
              "0      50  4.320600\n",
              "1      55  4.323428\n",
              "2      60  4.321121\n",
              "3      65  4.322685\n",
              "4      70  4.345351"
            ],
            "text/html": [
              "<div>\n",
              "<style scoped>\n",
              "    .dataframe tbody tr th:only-of-type {\n",
              "        vertical-align: middle;\n",
              "    }\n",
              "\n",
              "    .dataframe tbody tr th {\n",
              "        vertical-align: top;\n",
              "    }\n",
              "\n",
              "    .dataframe thead th {\n",
              "        text-align: right;\n",
              "    }\n",
              "</style>\n",
              "<table border=\"1\" class=\"dataframe\">\n",
              "  <thead>\n",
              "    <tr style=\"text-align: right;\">\n",
              "      <th></th>\n",
              "      <th>App_ID</th>\n",
              "      <th>Rating</th>\n",
              "    </tr>\n",
              "  </thead>\n",
              "  <tbody>\n",
              "    <tr>\n",
              "      <td>0</td>\n",
              "      <td>50</td>\n",
              "      <td>4.320600</td>\n",
              "    </tr>\n",
              "    <tr>\n",
              "      <td>1</td>\n",
              "      <td>55</td>\n",
              "      <td>4.323428</td>\n",
              "    </tr>\n",
              "    <tr>\n",
              "      <td>2</td>\n",
              "      <td>60</td>\n",
              "      <td>4.321121</td>\n",
              "    </tr>\n",
              "    <tr>\n",
              "      <td>3</td>\n",
              "      <td>65</td>\n",
              "      <td>4.322685</td>\n",
              "    </tr>\n",
              "    <tr>\n",
              "      <td>4</td>\n",
              "      <td>70</td>\n",
              "      <td>4.345351</td>\n",
              "    </tr>\n",
              "  </tbody>\n",
              "</table>\n",
              "</div>"
            ]
          },
          "metadata": {
            "tags": []
          },
          "execution_count": 68
        }
      ]
    },
    {
      "cell_type": "code",
      "metadata": {
        "id": "_Oqe78kj1WB5",
        "colab_type": "code",
        "trusted": true,
        "colab": {}
      },
      "source": [
        "output['Rating'] = [round(x, 1) for x in output['Rating']]"
      ],
      "execution_count": 0,
      "outputs": []
    },
    {
      "cell_type": "code",
      "metadata": {
        "trusted": true,
        "id": "u8kxnVCnKzZ1",
        "colab_type": "code",
        "outputId": "250d8792-b2b6-4913-bd1d-5edd33735f65",
        "colab": {}
      },
      "source": [
        "output.head()"
      ],
      "execution_count": 0,
      "outputs": [
        {
          "output_type": "execute_result",
          "data": {
            "text/plain": [
              "   App_ID  Rating\n",
              "0      50     4.3\n",
              "1      55     4.3\n",
              "2      60     4.3\n",
              "3      65     4.3\n",
              "4      70     4.3"
            ],
            "text/html": [
              "<div>\n",
              "<style scoped>\n",
              "    .dataframe tbody tr th:only-of-type {\n",
              "        vertical-align: middle;\n",
              "    }\n",
              "\n",
              "    .dataframe tbody tr th {\n",
              "        vertical-align: top;\n",
              "    }\n",
              "\n",
              "    .dataframe thead th {\n",
              "        text-align: right;\n",
              "    }\n",
              "</style>\n",
              "<table border=\"1\" class=\"dataframe\">\n",
              "  <thead>\n",
              "    <tr style=\"text-align: right;\">\n",
              "      <th></th>\n",
              "      <th>App_ID</th>\n",
              "      <th>Rating</th>\n",
              "    </tr>\n",
              "  </thead>\n",
              "  <tbody>\n",
              "    <tr>\n",
              "      <td>0</td>\n",
              "      <td>50</td>\n",
              "      <td>4.3</td>\n",
              "    </tr>\n",
              "    <tr>\n",
              "      <td>1</td>\n",
              "      <td>55</td>\n",
              "      <td>4.3</td>\n",
              "    </tr>\n",
              "    <tr>\n",
              "      <td>2</td>\n",
              "      <td>60</td>\n",
              "      <td>4.3</td>\n",
              "    </tr>\n",
              "    <tr>\n",
              "      <td>3</td>\n",
              "      <td>65</td>\n",
              "      <td>4.3</td>\n",
              "    </tr>\n",
              "    <tr>\n",
              "      <td>4</td>\n",
              "      <td>70</td>\n",
              "      <td>4.3</td>\n",
              "    </tr>\n",
              "  </tbody>\n",
              "</table>\n",
              "</div>"
            ]
          },
          "metadata": {
            "tags": []
          },
          "execution_count": 70
        }
      ]
    },
    {
      "cell_type": "code",
      "metadata": {
        "id": "WBSZr7Y2F9jC",
        "colab_type": "code",
        "trusted": true,
        "colab": {}
      },
      "source": [
        "output.to_csv('output.csv', index=False)"
      ],
      "execution_count": 0,
      "outputs": []
    },
    {
      "cell_type": "markdown",
      "metadata": {
        "id": "EgVPw3n7bpWn",
        "colab_type": "text"
      },
      "source": [
        "## PLotting graphs EDA"
      ]
    },
    {
      "cell_type": "markdown",
      "metadata": {
        "id": "0diimmnJ-P_I",
        "colab_type": "text"
      },
      "source": [
        "## Data visualization and finding patterns/correlations"
      ]
    },
    {
      "cell_type": "markdown",
      "metadata": {
        "id": "enOCIJmgLmVm",
        "colab_type": "text"
      },
      "source": [
        "## First of all , let's investigate balancing of dataset samples"
      ]
    },
    {
      "cell_type": "code",
      "metadata": {
        "id": "P4BUZ_rA5QMi",
        "colab_type": "code",
        "outputId": "11622d29-6358-4d1f-c096-24bf9fcbd629",
        "colab": {
          "base_uri": "https://localhost:8080/",
          "height": 298
        }
      },
      "source": [
        "sns.countplot(df['class_type'])"
      ],
      "execution_count": 0,
      "outputs": [
        {
          "output_type": "execute_result",
          "data": {
            "text/plain": [
              "<matplotlib.axes._subplots.AxesSubplot at 0x7fa7d643b5c0>"
            ]
          },
          "metadata": {
            "tags": []
          },
          "execution_count": 11
        },
        {
          "output_type": "display_data",
          "data": {
            "image/png": "[encoded data removed]",
            "text/plain": [
              "<Figure size 432x288 with 1 Axes>"
            ]
          },
          "metadata": {
            "tags": []
          }
        }
      ]
    },
    {
      "cell_type": "code",
      "metadata": {
        "id": "CdtoHLx6GoFW",
        "colab_type": "code",
        "outputId": "c190a4c5-b9cb-4331-a972-c7d8fce61e67",
        "colab": {
          "base_uri": "https://localhost:8080/",
          "height": 88
        }
      },
      "source": [
        "df.columns[:16]"
      ],
      "execution_count": 0,
      "outputs": [
        {
          "output_type": "execute_result",
          "data": {
            "text/plain": [
              "Index(['hair', 'feathers', 'eggs', 'milk', 'airborne', 'aquatic', 'predator',\n",
              "       'toothed', 'backbone', 'breathes', 'venomous', 'fins', 'legs', 'tail',\n",
              "       'domestic', 'catsize'],\n",
              "      dtype='object')"
            ]
          },
          "metadata": {
            "tags": []
          },
          "execution_count": 12
        }
      ]
    },
    {
      "cell_type": "code",
      "metadata": {
        "id": "hxEFwgZhDFx2",
        "colab_type": "code",
        "outputId": "9e6f0419-0991-48ac-faab-934ae77a7397",
        "colab": {
          "base_uri": "https://localhost:8080/",
          "height": 1000
        }
      },
      "source": [
        "# investigate counts of unique values for each columns in dataframe\n",
        "fig, ax =plt.subplots(4,4, figsize=(20, 20))\n",
        "k = 0\n",
        "for i in range(0, 4):\n",
        "  for j in range(0, 4):\n",
        "    sns.countplot(df[df.columns[k]], ax = ax[i][j])\n",
        "    k += 1\n",
        "fig.show()"
      ],
      "execution_count": 0,
      "outputs": [
        {
          "output_type": "display_data",
          "data": {
            "image/png": "[encoded data removed]",
            "text/plain": [
              "<Figure size 1440x1440 with 16 Axes>"
            ]
          },
          "metadata": {
            "tags": []
          }
        }
      ]
    },
    {
      "cell_type": "markdown",
      "metadata": {
        "id": "SDm6FZsiLx9p",
        "colab_type": "text"
      },
      "source": [
        "## investigating the distribution of data "
      ]
    },
    {
      "cell_type": "code",
      "metadata": {
        "id": "oIGWc7EZIC3v",
        "colab_type": "code",
        "outputId": "7a2d3415-17e3-49d5-f37e-844d31265759",
        "colab": {
          "base_uri": "https://localhost:8080/",
          "height": 298
        }
      },
      "source": [
        "sns.distplot(df['class_type'])"
      ],
      "execution_count": 0,
      "outputs": [
        {
          "output_type": "execute_result",
          "data": {
            "text/plain": [
              "<matplotlib.axes._subplots.AxesSubplot at 0x7fa7d5f18208>"
            ]
          },
          "metadata": {
            "tags": []
          },
          "execution_count": 14
        },
        {
          "output_type": "display_data",
          "data": {
            "image/png": "[encoded data removed]",
            "text/plain": [
              "<Figure size 432x288 with 1 Axes>"
            ]
          },
          "metadata": {
            "tags": []
          }
        }
      ]
    },
    {
      "cell_type": "markdown",
      "metadata": {
        "id": "-Av2UpDVL2Xs",
        "colab_type": "text"
      },
      "source": [
        "## analyzing heatmaps !"
      ]
    },
    {
      "cell_type": "code",
      "metadata": {
        "id": "qiKh-PwqL3fS",
        "colab_type": "code",
        "outputId": "256a67e2-b7ba-4ee1-fa8a-8c05de7d7063",
        "colab": {
          "base_uri": "https://localhost:8080/",
          "height": 1000
        }
      },
      "source": [
        "fig, ax = plt.subplots(figsize=(30,30))\n",
        "sns.heatmap(df, square = True, annot = True)"
      ],
      "execution_count": 0,
      "outputs": [
        {
          "output_type": "execute_result",
          "data": {
            "text/plain": [
              "<matplotlib.axes._subplots.AxesSubplot at 0x7fa7d596b7f0>"
            ]
          },
          "metadata": {
            "tags": []
          },
          "execution_count": 15
        },
        {
          "output_type": "display_data",
          "data": {
            "image/png": "[encoded data removed]",
            "text/plain": [
              "<Figure size 2160x2160 with 2 Axes>"
            ]
          },
          "metadata": {
            "tags": []
          }
        }
      ]
    }
  ]
}